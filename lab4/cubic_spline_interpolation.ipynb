{
 "cells": [
  {
   "cell_type": "code",
   "execution_count": 1,
   "metadata": {},
   "outputs": [],
   "source": [
    "import numpy as np\n",
    "import matplotlib.pyplot as plt\n"
   ]
  },
  {
   "cell_type": "code",
   "execution_count": 2,
   "metadata": {},
   "outputs": [],
   "source": [
    "def gaussEliminationLS( m, n, a, x):\n",
    "    for i in range(m-1):\n",
    "        for k in range(m):\n",
    "            if abs(a[i][i]<abs(a[k][i])):\n",
    "                for j in range(n):\n",
    "                    temp= a[i][j]\n",
    "                    a[i][j]= a[k][j]\n",
    "                    a[k][j]= temp\n",
    "        \n",
    "        for k in range(i+1,m):\n",
    "            term = a[k][i]/a[i][i]\n",
    "            for j in range(n):\n",
    "                a[k][j]= a[k][j]-term*a[i][j]\n",
    "    for i in range(m-1,-1,-1):\n",
    "        x[i] = a[i][n-1]\n",
    "        for j in range(i+1,n-1):\n",
    "            x[i] = x[i]-a[i][j]*x[j]\n",
    "        x[i]= x[i]/a[i][i]\n",
    "    return x\n",
    "    "
   ]
  },
  {
   "cell_type": "code",
   "execution_count": 3,
   "metadata": {},
   "outputs": [],
   "source": [
    "def cSCoeffCalc(n,h,sig,y,a,b,c,d):\n",
    "    for i in range(n):\n",
    "        d[i]=y[i]\n",
    "        b[i]=sig[i]/2.0\n",
    "        a[i]=(sig[i+1]-sig[i])/(h[i]*6.0)\n",
    "        c[i]=(y[i+1]-y[i])/h[i]-h[i]*(2*sig[i]+sig[i+1])/6.0"
   ]
  },
  {
   "cell_type": "code",
   "execution_count": 4,
   "metadata": {},
   "outputs": [],
   "source": [
    "def tridiagonalCubicSplineGen(n,h,a,y):\n",
    "    for i in range(n-1):\n",
    "        a[i][i]=2*(h[i]+h[i+1])\n",
    "    \n",
    "    for i in range(n-2):\n",
    "        a[i][i+1]=h[i+1]\n",
    "        a[i+1][i]=h[i+1]\n",
    "    for i in range(1,n):\n",
    "        a[i-1][n-1]=(y[i+1]-y[i])*6/h[i]-(y[i]-y[i-1])*6/h[i-1]\n",
    "    \n"
   ]
  },
  {
   "cell_type": "code",
   "execution_count": 5,
   "metadata": {},
   "outputs": [],
   "source": [
    "def printMatrix(m, n, matrix):\n",
    "    ss=\"\"\n",
    "    for i in range(m):\n",
    "        for j in range(n):\n",
    "            ss+=str(matrix[i][j])+\" \"\n",
    "        print(ss);\n",
    "        "
   ]
  },
  {
   "cell_type": "code",
   "execution_count": 6,
   "metadata": {},
   "outputs": [],
   "source": [
    "def copyMatrix( m, n, matrix1, matrix2):\n",
    "    for i in range(m):\n",
    "        for j in range(n):\n",
    "            matrix2[i][j]=matrix1[i][j]\n"
   ]
  },
  {
   "cell_type": "code",
   "execution_count": 7,
   "metadata": {},
   "outputs": [
    {
     "name": "stdout",
     "output_type": "stream",
     "text": [
      "The tridiagonal system for the Natural spline is:\n",
      "\n",
      "\n",
      "5.0 1.5 0.0 0.0 0.0 0.0 -5.600000000000001 \n",
      "5.0 1.5 0.0 0.0 0.0 0.0 -5.600000000000001 1.5 5.2 1.1 0.0 0.0 0.0 -4.872727272727273 \n",
      "5.0 1.5 0.0 0.0 0.0 0.0 -5.600000000000001 1.5 5.2 1.1 0.0 0.0 0.0 -4.872727272727273 0.0 1.1 5.0 1.4 0.0 0.0 3.444155844155844 \n",
      "5.0 1.5 0.0 0.0 0.0 0.0 -5.600000000000001 1.5 5.2 1.1 0.0 0.0 0.0 -4.872727272727273 0.0 1.1 5.0 1.4 0.0 0.0 3.444155844155844 0.0 0.0 1.4 6.8 2.0 0.0 7.088571428571429 \n",
      "5.0 1.5 0.0 0.0 0.0 0.0 -5.600000000000001 1.5 5.2 1.1 0.0 0.0 0.0 -4.872727272727273 0.0 1.1 5.0 1.4 0.0 0.0 3.444155844155844 0.0 0.0 1.4 6.8 2.0 0.0 7.088571428571429 0.0 0.0 0.0 2.0 6.199999999999999 1.0999999999999996 -3.169090909090909 \n",
      "5.0 1.5 0.0 0.0 0.0 0.0 -5.600000000000001 1.5 5.2 1.1 0.0 0.0 0.0 -4.872727272727273 0.0 1.1 5.0 1.4 0.0 0.0 3.444155844155844 0.0 0.0 1.4 6.8 2.0 0.0 7.088571428571429 0.0 0.0 0.0 2.0 6.199999999999999 1.0999999999999996 -3.169090909090909 0.0 0.0 0.0 0.0 1.0999999999999996 6.0 -6.45933014354067 \n",
      "\n",
      "Sig[0]= [0.]\n",
      "\n",
      "Sig[1]= [-0.88045383]\n",
      "\n",
      "Sig[2]= [-0.79848722]\n",
      "\n",
      "Sig[3]= [0.54553365]\n",
      "\n",
      "Sig[4]= [1.13915967]\n",
      "\n",
      "Sig[5]= [-0.71073071]\n",
      "\n",
      "Sig[6]= [-0.94625439]\n",
      "\n",
      "Sig[7]= [0.]\n",
      "The equations of cubic interpolation polynomials between the successive intervals are:\n",
      "\n",
      "\n",
      "P0(x) b/w [0.0,1.0] = [-0.14674231]*(x-0.0)^3+[0.]*(x-0.0)^2+[0.94674231]*(x-0.0)+[0.]\n",
      "\n",
      "P1(x) b/w [1.0,2.5] = [0.0091074]*(x-1.0)^3+[-0.44022692]*(x-1.0)^2+[0.50651539]*(x-1.0)+[0.8]\n",
      "\n",
      "P2(x) b/w [2.5,3.6] = [0.20363953]*(x-2.5)^3+[-0.39924361]*(x-2.5)^2+[-0.7526904]*(x-2.5)+[0.6]\n",
      "\n",
      "P3(x) b/w [3.6,5.0] = [0.07066976]*(x-3.6)^3+[0.27276682]*(x-3.6)^2+[-0.89181486]*(x-3.6)+[-0.44]\n",
      "\n",
      "P4(x) b/w [5.0,7.0] = [-0.15415753]*(x-5.0)^3+[0.56957983]*(x-5.0)^2+[0.28747046]*(x-5.0)+[-0.96]\n",
      "\n",
      "P5(x) b/w [7.0,8.1] = [-0.03568541]*(x-7.0)^3+[-0.35536536]*(x-7.0)^2+[0.71589941]*(x-7.0)+[0.66]\n",
      "\n",
      "P6(x) b/w [8.1,10.0] = [0.08300477]*(x-8.1)^3+[-0.4731272]*(x-8.1)^2+[-0.19544239]*(x-8.1)+[0.97]\n",
      "\n"
     ]
    },
    {
     "data": {
      "image/png": "[encoded data removed]",
      "text/plain": [
       "<Figure size 432x288 with 1 Axes>"
      ]
     },
     "metadata": {
      "needs_background": "light"
     },
     "output_type": "display_data"
    }
   ],
   "source": [
    "\n",
    "x= np.array([0,1,2.5,3.6,5,7,8.1,10])    \n",
    "y= np.array([0,.8,.6,-.44,-.96,.66,.97,-.54])    \n",
    "\n",
    "m= x.shape[0]\n",
    "n= m-1\n",
    "h = np.zeros((n,1))\n",
    "for i in range(n):\n",
    "    h[i]=x[i+1]-x[i]\n",
    "\n",
    "a = np.zeros((n,1))\n",
    "b = np.zeros((n,1))\n",
    "c = np.zeros((n,1))\n",
    "d = np.zeros((n,1))\n",
    "sig = np.zeros((n+1,1))\n",
    "sigTemp = np.zeros((n-1,1))\n",
    "\n",
    "sig[0]=0\n",
    "sig[n]=0\n",
    "tri = np.zeros((n-1,n))                \n",
    "tridiagonalCubicSplineGen(n,h,tri,y)   \n",
    "print(\"The tridiagonal system for the Natural spline is:\\n\\n\")\n",
    "printMatrix(n-1,n,tri)\n",
    "# Perform Gauss Elimination \n",
    "\n",
    "gaussEliminationLS(n-1,n,tri,sigTemp)\n",
    "for i in range(1,n):\n",
    "    sig[i]=sigTemp[i-1]\n",
    "# Print the values of Si's\n",
    "for i in range(n+1):\n",
    "    print(\"\\nSig[\"+str(i)+\"]= \" +str(sig[i]))\n",
    "\n",
    "# calculate the values of ai's, bi's, ci's, and di's\n",
    "cSCoeffCalc(n,h,sig,y,a,b,c,d);\n",
    "print(\"The equations of cubic interpolation polynomials between the successive intervals are:\\n\\n\")\n",
    "\n",
    "\n",
    "for i in range(n):\n",
    "    print(\"P\"+str(i)+\"(x) b/w [\"+str(x[i])+\",\"+str(x[i+1])+\"] = \"+str(a[i])+\"*(x-\"+str(x[i])+\")^3+\"+str(b[i])+\"*(x-\"+str(x[i])+\")^2+\"+str(c[i])+\"*(x-\"+str(x[i])+\")+\"+str(d[i])+\"\\n\")\n",
    "    function = lambda x: (a[i]*(x-x[i])**3+b[i]*(x-x[i])**2+c[i]*(x-x[i])+d[i])\n",
    "    X= np.linspace(x[i],x[i+1])\n",
    "    plt.plot(X,function(X))\n",
    "\n",
    "plt.show()\n",
    "\n",
    "    \n"
   ]
  },
  {
   "cell_type": "code",
   "execution_count": null,
   "metadata": {},
   "outputs": [],
   "source": []
  }
 ],
 "metadata": {
  "kernelspec": {
   "display_name": "Python 3",
   "language": "python",
   "name": "python3"
  },
  "language_info": {
   "codemirror_mode": {
    "name": "ipython",
    "version": 3
   },
   "file_extension": ".py",
   "mimetype": "text/x-python",
   "name": "python",
   "nbconvert_exporter": "python",
   "pygments_lexer": "ipython3",
   "version": "3.7.3"
  }
 },
 "nbformat": 4,
 "nbformat_minor": 2
}
